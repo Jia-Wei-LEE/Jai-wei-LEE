{
  "nbformat": 4,
  "nbformat_minor": 0,
  "metadata": {
    "colab": {
      "provenance": [],
      "authorship_tag": "ABX9TyPgWzmxk1P5R1qAP8iWOIil",
      "include_colab_link": true
    },
    "kernelspec": {
      "name": "python3",
      "display_name": "Python 3"
    },
    "language_info": {
      "name": "python"
    }
  },
  "cells": [
    {
      "cell_type": "markdown",
      "metadata": {
        "id": "view-in-github",
        "colab_type": "text"
      },
      "source": [
        "<a href=\"https://colab.research.google.com/github/Jia-Wei-LEE/Jai-wei-LEE/blob/main/%E5%AF%A6%E4%BD%9C%E5%B0%88%E6%A1%881_%E7%B6%B2%E8%B7%AF%E7%88%AC%E8%9F%B2.ipynb\" target=\"_parent\"><img src=\"https://colab.research.google.com/assets/colab-badge.svg\" alt=\"Open In Colab\"/></a>"
      ]
    },
    {
      "cell_type": "code",
      "execution_count": 5,
      "metadata": {
        "colab": {
          "base_uri": "https://localhost:8080/"
        },
        "collapsed": true,
        "id": "cQPkh8x36IrA",
        "outputId": "361e28b8-3ef3-48e6-a87a-60763afc8332"
      },
      "outputs": [
        {
          "output_type": "stream",
          "name": "stderr",
          "text": [
            "IOPub data rate exceeded.\n",
            "The notebook server will temporarily stop sending output\n",
            "to the client in order to avoid crashing it.\n",
            "To change this limit, set the config variable\n",
            "`--NotebookApp.iopub_data_rate_limit`.\n",
            "\n",
            "Current values:\n",
            "NotebookApp.iopub_data_rate_limit=1000000.0 (bytes/sec)\n",
            "NotebookApp.rate_limit_window=3.0 (secs)\n",
            "\n"
          ]
        }
      ],
      "source": [
        "import requests\n",
        "import json\n",
        "\n",
        "url=\"https://raw.githubusercontent.com/kiang/pharmacies/master/json/points.json\"\n",
        "response = requests.get(url)\n",
        "d = response.text\n",
        "data =json.loads(d)\n",
        "print(data)"
      ]
    },
    {
      "cell_type": "markdown",
      "source": [
        "向API 發送請求已取得資料格式，取得JSON檔案\n",
        "requests 套件向 API 伺服器發送 HTTP 請求，獲取 API回傳的資料，HTTP 是伺服器和用戶端通訊的規則\n",
        "\n",
        "import requests\n",
        "\n",
        "import json\n",
        "\n",
        "此內容會顯示為程式碼\n",
        "利用requests 對 API 發送請求\n",
        "\n",
        "url = '{API 網址}'\n",
        "\n",
        "response = requests.get(url)\n",
        "\n",
        "將請求的內容存在一個字串格式\n",
        "\n",
        "d = response.text\n",
        "\n",
        "將 json 格式的字串解析成字典或列表\n",
        "\n",
        "data = json.loads(d)\n",
        "\n",
        "print(data)"
      ],
      "metadata": {
        "id": "rgUQWorv6j-1"
      }
    }
  ]
}