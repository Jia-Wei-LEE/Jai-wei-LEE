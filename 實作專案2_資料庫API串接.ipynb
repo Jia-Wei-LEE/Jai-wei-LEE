{
  "nbformat": 4,
  "nbformat_minor": 0,
  "metadata": {
    "colab": {
      "provenance": [],
      "authorship_tag": "ABX9TyP6RQCn8dSVELlIc01V/kcx",
      "include_colab_link": true
    },
    "kernelspec": {
      "name": "python3",
      "display_name": "Python 3"
    },
    "language_info": {
      "name": "python"
    }
  },
  "cells": [
    {
      "cell_type": "markdown",
      "metadata": {
        "id": "view-in-github",
        "colab_type": "text"
      },
      "source": [
        "<a href=\"https://colab.research.google.com/github/Jia-Wei-LEE/Jia-wei-LEE/blob/main/%E5%AF%A6%E4%BD%9C%E5%B0%88%E6%A1%882_%E8%B3%87%E6%96%99%E5%BA%ABAPI%E4%B8%B2%E6%8E%A5.ipynb\" target=\"_parent\"><img src=\"https://colab.research.google.com/assets/colab-badge.svg\" alt=\"Open In Colab\"/></a>"
      ]
    },
    {
      "cell_type": "code",
      "source": [
        "import sqlite3\n",
        "import datetime\n",
        "import requests\n",
        "import json\n",
        "\n",
        "conn = sqlite3.connect('example.db')\n",
        "c = conn.cursor()\n",
        "\n",
        "c.execute ('''CREATE TABLE IF NOT EXISTS pharmacies\n",
        "     (city text, counts integer, createdAt datetime)''')\n",
        "conn.commit()\n",
        "\n",
        "\n",
        "# 載入資料\n",
        "import requests\n",
        "import json\n",
        "url = \"https://raw.githubusercontent.com/kiang/pharmacies/master/json/points.json\"\n",
        "response= requests.get(url)\n",
        "d = response.text\n",
        "data =json.loads(d)\n",
        "\n",
        "mask_count = {}\n",
        "for d in data[\"features\"]:\n",
        "  country = d[\"properties\"][\"county\"]\n",
        "  mask_adult= d[\"properties\"][\"mask_adult\"]\n",
        "  mask_child = d[\"properties\"][\"mask_child\"]\n",
        "  if country not in mask_count:\n",
        "    mask_count[country] = (mask_adult + mask_child)\n",
        "  else:\n",
        "    mask_count[country] += (mask_adult + mask_child)\n",
        "# 將取得資料排序\n",
        "mask_count = dict(sorted(mask_count.items(),key = lambda item:item[1], reverse= True))\n",
        "\n",
        "\n",
        "for d in mask_count:\n",
        "  city = d\n",
        "  counts = mask_count[d]\n",
        "  t = datetime.datetime.now()\n",
        "  print (f\"INSERT INTO stocks VALUES ('{city}', {counts}, '{t}')\")\n",
        "  c.execute(f\"INSERT INTO pharmacies VALUES ('{city}', {counts}, '{t}')\")\n",
        "  conn.commit()\n",
        "\n",
        "# 查詢資料\n",
        "c.execute(\"SELECT * FROM pharmacies\")\n",
        "print(c.fetchall())\n",
        "\n",
        "conn.commit()\n",
        "conn.close()"
      ],
      "metadata": {
        "colab": {
          "base_uri": "https://localhost:8080/",
          "height": 228
        },
        "id": "AcrHoICF8nXv",
        "outputId": "9f0fc367-ceb3-4892-dcaf-1d0ee5742d8d"
      },
      "execution_count": null,
      "outputs": [
        {
          "output_type": "stream",
          "name": "stdout",
          "text": [
            "INSERT INTO stocks VALUES ('新北市', 1209530, '2024-06-23 13:42:02.460083')\n"
          ]
        },
        {
          "output_type": "error",
          "ename": "OperationalError",
          "evalue": "database is locked",
          "traceback": [
            "\u001b[0;31m---------------------------------------------------------------------------\u001b[0m",
            "\u001b[0;31mOperationalError\u001b[0m                          Traceback (most recent call last)",
            "\u001b[0;32m<ipython-input-64-7e3db366a179>\u001b[0m in \u001b[0;36m<cell line: 35>\u001b[0;34m()\u001b[0m\n\u001b[1;32m     38\u001b[0m   \u001b[0mt\u001b[0m \u001b[0;34m=\u001b[0m \u001b[0mdatetime\u001b[0m\u001b[0;34m.\u001b[0m\u001b[0mdatetime\u001b[0m\u001b[0;34m.\u001b[0m\u001b[0mnow\u001b[0m\u001b[0;34m(\u001b[0m\u001b[0;34m)\u001b[0m\u001b[0;34m\u001b[0m\u001b[0;34m\u001b[0m\u001b[0m\n\u001b[1;32m     39\u001b[0m   \u001b[0mprint\u001b[0m \u001b[0;34m(\u001b[0m\u001b[0;34mf\"INSERT INTO stocks VALUES ('{city}', {counts}, '{t}')\"\u001b[0m\u001b[0;34m)\u001b[0m\u001b[0;34m\u001b[0m\u001b[0;34m\u001b[0m\u001b[0m\n\u001b[0;32m---> 40\u001b[0;31m   \u001b[0mc\u001b[0m\u001b[0;34m.\u001b[0m\u001b[0mexecute\u001b[0m\u001b[0;34m(\u001b[0m\u001b[0;34mf\"INSERT INTO pharmacies VALUES ('{city}', {counts}, '{t}')\"\u001b[0m\u001b[0;34m)\u001b[0m\u001b[0;34m\u001b[0m\u001b[0;34m\u001b[0m\u001b[0m\n\u001b[0m\u001b[1;32m     41\u001b[0m   \u001b[0mconn\u001b[0m\u001b[0;34m.\u001b[0m\u001b[0mcommit\u001b[0m\u001b[0;34m(\u001b[0m\u001b[0;34m)\u001b[0m\u001b[0;34m\u001b[0m\u001b[0;34m\u001b[0m\u001b[0m\n\u001b[1;32m     42\u001b[0m \u001b[0;34m\u001b[0m\u001b[0m\n",
            "\u001b[0;31mOperationalError\u001b[0m: database is locked"
          ]
        }
      ]
    },
    {
      "cell_type": "markdown",
      "source": [
        "1. 在python中，我們可以使用SQLite來創建和操作關聯式資料庫。\n",
        "2. SQLite是一種輕量級的關聯式資料庫，可利用內致函數來操作。\n",
        "3. 建立SQLite資料庫\n",
        "\n",
        "```import sqlite3```\n",
        "\n",
        "4. 使用connect函數建立資料庫\n",
        "5. 執行excute函數，就可以執行SQL語法\n",
        "\n",
        "創建資料表\n",
        "\n",
        "```c.execute('''CREATE TABLE stock(date text, trans text, symbol text, qty real, price real)''')```\n",
        "\n",
        "在資料表中新增一筆資料\n",
        "\n",
        "```c.execute(\"INSERT INTO stocks VALUES ('2022-03-01', 'BUY', 'AAPL', 100, 1350\")```\n",
        "\n",
        "在資料表中修改資料\n",
        "\n",
        "```c.execute(\"UPDATE stocks SET qty = 200 WHERE symbol = 'AAPL'\")```\n",
        "\n",
        "從資料表中刪除資料\n",
        "\n",
        "```c.execute(\"DELETE FROM stocks WHERE symbol = 'AAPL'\")```\n",
        "\n",
        "使用 fetchone() 方法來取得查詢結果的第一筆資料\n",
        "\n",
        "使用 fetchall() 方法來取得所有查詢結果的資料\n",
        "\n",
        "```c.execute(\"SELECT * FROM stocks WHERE symbol = 'AAPL'\")```\n",
        "```print(c.fetchone())```\n",
        "\n",
        "\n",
        "\n"
      ],
      "metadata": {
        "id": "nKX3s_1E0tnc"
      }
    }
  ]
}