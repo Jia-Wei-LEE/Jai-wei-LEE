{
  "nbformat": 4,
  "nbformat_minor": 0,
  "metadata": {
    "colab": {
      "provenance": [],
      "authorship_tag": "ABX9TyOdCXcWZKRU2dkFb8lmnR2f",
      "include_colab_link": true
    },
    "kernelspec": {
      "name": "python3",
      "display_name": "Python 3"
    },
    "language_info": {
      "name": "python"
    }
  },
  "cells": [
    {
      "cell_type": "markdown",
      "metadata": {
        "id": "view-in-github",
        "colab_type": "text"
      },
      "source": [
        "<a href=\"https://colab.research.google.com/github/Jia-Wei-LEE/Jai-wei-LEE/blob/main/%E5%AF%A6%E4%BD%9C%E5%B0%88%E6%A1%881_%E7%B6%B2%E8%B7%AF%E7%88%AC%E8%9F%B2.ipynb\" target=\"_parent\"><img src=\"https://colab.research.google.com/assets/colab-badge.svg\" alt=\"Open In Colab\"/></a>"
      ]
    },
    {
      "cell_type": "code",
      "execution_count": null,
      "metadata": {
        "id": "cQPkh8x36IrA"
      },
      "outputs": [],
      "source": [
        "import requests\n",
        "import json\n"
      ]
    },
    {
      "cell_type": "markdown",
      "source": [
        "向API 發送請求已取得資料格式，取得JSON檔案\n",
        "requests 套件向 API 伺服器發送 HTTP 請求，獲取 API回傳的資料，HTTP 是伺服器和用戶端通訊的規則\n",
        "\n",
        "import requests\n",
        "\n",
        "import json\n",
        "\n",
        "此內容會顯示為程式碼\n",
        "利用requests 對 API 發送請求\n",
        "url = '{API 網址}'\n",
        "\n",
        "response = requests.get(url)\n",
        "\n",
        "將請求的內容存在一個字串格式\n",
        "\n",
        "d = response.text\n",
        "\n",
        "將 json 格式的字串解析成字典或列表\n",
        "\n",
        "data = json.loads(d)\n",
        "\n",
        "print(data)"
      ],
      "metadata": {
        "id": "rgUQWorv6j-1"
      }
    }
  ]
}