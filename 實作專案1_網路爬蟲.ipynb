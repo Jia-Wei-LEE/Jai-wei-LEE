{
  "nbformat": 4,
  "nbformat_minor": 0,
  "metadata": {
    "colab": {
      "provenance": [],
      "authorship_tag": "ABX9TyM+hwufNMDJvSHE6X5L8Vdc",
      "include_colab_link": true
    },
    "kernelspec": {
      "name": "python3",
      "display_name": "Python 3"
    },
    "language_info": {
      "name": "python"
    }
  },
  "cells": [
    {
      "cell_type": "markdown",
      "metadata": {
        "id": "view-in-github",
        "colab_type": "text"
      },
      "source": [
        "<a href=\"https://colab.research.google.com/github/Jia-Wei-LEE/Jai-wei-LEE/blob/main/%E5%AF%A6%E4%BD%9C%E5%B0%88%E6%A1%881_%E7%B6%B2%E8%B7%AF%E7%88%AC%E8%9F%B2.ipynb\" target=\"_parent\"><img src=\"https://colab.research.google.com/assets/colab-badge.svg\" alt=\"Open In Colab\"/></a>"
      ]
    },
    {
      "cell_type": "code",
      "execution_count": 5,
      "metadata": {
        "colab": {
          "base_uri": "https://localhost:8080/"
        },
        "collapsed": true,
        "id": "cQPkh8x36IrA",
        "outputId": "361e28b8-3ef3-48e6-a87a-60763afc8332"
      },
      "outputs": [
        {
          "output_type": "stream",
          "name": "stderr",
          "text": [
            "IOPub data rate exceeded.\n",
            "The notebook server will temporarily stop sending output\n",
            "to the client in order to avoid crashing it.\n",
            "To change this limit, set the config variable\n",
            "`--NotebookApp.iopub_data_rate_limit`.\n",
            "\n",
            "Current values:\n",
            "NotebookApp.iopub_data_rate_limit=1000000.0 (bytes/sec)\n",
            "NotebookApp.rate_limit_window=3.0 (secs)\n",
            "\n"
          ]
        }
      ],
      "source": [
        "import requests\n",
        "import json\n",
        "\n",
        "url=\"https://raw.githubusercontent.com/kiang/pharmacies/master/json/points.json\"\n",
        "response = requests.get(url)\n",
        "d = response.text\n",
        "data =json.loads(d)\n",
        "print(data)"
      ]
    },
    {
      "cell_type": "markdown",
      "source": [
        "向API 發送請求已取得資料格式，取得JSON檔案\n",
        "requests 套件向 API 伺服器發送 HTTP 請求，獲取 API回傳的資料，HTTP 是伺服器和用戶端通訊的規則\n",
        "\n",
        "import requests\n",
        "\n",
        "import json\n",
        "\n",
        "此內容會顯示為程式碼\n",
        "利用requests 對 API 發送請求\n",
        "\n",
        "url = '{API 網址}'\n",
        "\n",
        "response = requests.get(url)\n",
        "\n",
        "將請求的內容存在一個字串格式\n",
        "\n",
        "d = response.text\n",
        "\n",
        "將 json 格式的字串解析成字典或列表\n",
        "\n",
        "data = json.loads(d)\n",
        "\n",
        "print(data)"
      ],
      "metadata": {
        "id": "rgUQWorv6j-1"
      }
    },
    {
      "cell_type": "code",
      "source": [
        "med_count = {}\n",
        "\n",
        "for d in data['features']:\n",
        "    country = d['properties']['county']\n",
        "    if country not in med_count:\n",
        "        med_count[country] = 0\n",
        "    else:\n",
        "        med_count[country] += 1\n",
        "\n",
        "print(med_count)"
      ],
      "metadata": {
        "colab": {
          "base_uri": "https://localhost:8080/"
        },
        "id": "WEbhhgX1CxLn",
        "outputId": "4c1ae5d9-05b7-4710-e346-4a2bbbd04657"
      },
      "execution_count": 6,
      "outputs": [
        {
          "output_type": "stream",
          "name": "stdout",
          "text": [
            "{'臺北市': 338, '': 48, '高雄市': 421, '臺中市': 419, '臺南市': 270, '基隆市': 56, '新竹市': 38, '嘉義市': 66, '新北市': 500, '桃園市': 263, '新竹縣': 45, '宜蘭縣': 75, '苗栗縣': 55, '彰化縣': 178, '南投縣': 66, '雲林縣': 128, '嘉義縣': 83, '屏東縣': 139, '澎湖縣': 10, '花蓮縣': 45, '臺東縣': 22, '金門縣': 5, '連江縣': 0}\n"
          ]
        }
      ]
    },
    {
      "cell_type": "markdown",
      "source": [
        "計算各地區的藥局數量\n",
        "1. 建立字典\n",
        "2. 利用 for 語法遍立整個data取出country部分\n",
        "3. 利用 if 條件式判斷來計數個地區醫院數量"
      ],
      "metadata": {
        "id": "A9EDWjPlFJFo"
      }
    },
    {
      "cell_type": "code",
      "source": [
        "mask_count ={}\n",
        "\n",
        "for d in data['features']:\n",
        "  country = d['properties']['county']\n",
        "  mask_adult = d['properties']['mask_adult']\n",
        "  if country not in mask_count:\n",
        "    mask_count[country] = mask_adult\n",
        "  else:\n",
        "    mask_count[country] += mask_adult\n",
        "\n",
        "med_count = dict(sorted(mask_count.items(),key = lambda item:item[1], reverse= True))\n",
        "\n",
        "print(med_count)\n",
        "\n",
        "\n"
      ],
      "metadata": {
        "colab": {
          "base_uri": "https://localhost:8080/"
        },
        "id": "fGtVh9HrGMIQ",
        "outputId": "ec9435b8-97e4-411d-a755-f4ffcdce1949"
      },
      "execution_count": 18,
      "outputs": [
        {
          "output_type": "stream",
          "name": "stdout",
          "text": [
            "{'新北市': 670270, '臺中市': 536710, '高雄市': 424170, '臺南市': 393900, '桃園市': 331940, '臺北市': 322490, '彰化縣': 219400, '雲林縣': 196990, '屏東縣': 184250, '苗栗縣': 131080, '嘉義縣': 113180, '嘉義市': 107840, '宜蘭縣': 106900, '南投縣': 91240, '基隆市': 80100, '': 69210, '花蓮縣': 57330, '新竹縣': 51350, '新竹市': 45630, '臺東縣': 28510, '金門縣': 15510, '澎湖縣': 12600, '連江縣': 7930}\n"
          ]
        }
      ]
    },
    {
      "cell_type": "markdown",
      "source": [],
      "metadata": {
        "id": "SFjwMttxKb28"
      }
    },
    {
      "cell_type": "markdown",
      "source": [
        "計算出每個地區的成人剩餘口罩數量，並且將結果從大到小排列\n",
        "1. 建立兩個索引分別為country 和 mask_adult\n",
        "2. 利用if判斷式，如果當前country沒有mask_adult數，就維持當前值；如果是則累加上去，如果不是已知country會新增上去字典。"
      ],
      "metadata": {
        "id": "aGUAgw4WR49a"
      }
    }
  ]
}