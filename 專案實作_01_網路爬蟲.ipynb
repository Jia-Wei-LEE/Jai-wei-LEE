{
  "cells": [
    {
      "cell_type": "markdown",
      "metadata": {
        "id": "view-in-github",
        "colab_type": "text"
      },
      "source": [
        "<a href=\"https://colab.research.google.com/github/Jia-Wei-LEE/Jai-wei-LEE/blob/main/%E5%B0%88%E6%A1%88%E5%AF%A6%E4%BD%9C_01_%E7%B6%B2%E8%B7%AF%E7%88%AC%E8%9F%B2.ipynb\" target=\"_parent\"><img src=\"https://colab.research.google.com/assets/colab-badge.svg\" alt=\"Open In Colab\"/></a>"
      ]
    },
    {
      "cell_type": "markdown",
      "source": [
        "# 向API 發送請求已取得資料格式，取得JSON檔案\n",
        "import requests  \n",
        "import json\n",
        "\n",
        "# 利用requests 對 API 發送請求\n",
        "url = '{API 網址}'\n",
        "\n",
        "response = requests.get(url)\n",
        "\n",
        "# 將請求的內容存在一個字串格式\n",
        "\n",
        "d = response.text\n",
        "\n",
        "# 將 json 格式的字串解析成字典或列表\n",
        "\n",
        "data = json.loads(d)\n",
        "\n",
        "print(data)"
      ],
      "metadata": {
        "id": "dvTQ4xKUfqim"
      }
    }
  ],
  "metadata": {
    "colab": {
      "toc_visible": true,
      "provenance": [],
      "include_colab_link": true
    },
    "kernelspec": {
      "display_name": "Python 3",
      "name": "python3"
    }
  },
  "nbformat": 4,
  "nbformat_minor": 0
}