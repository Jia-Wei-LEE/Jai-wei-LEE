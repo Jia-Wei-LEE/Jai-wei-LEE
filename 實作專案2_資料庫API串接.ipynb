{
  "nbformat": 4,
  "nbformat_minor": 0,
  "metadata": {
    "colab": {
      "provenance": [],
      "authorship_tag": "ABX9TyN7m4L38phiWSet8+bkG9s9",
      "include_colab_link": true
    },
    "kernelspec": {
      "name": "python3",
      "display_name": "Python 3"
    },
    "language_info": {
      "name": "python"
    }
  },
  "cells": [
    {
      "cell_type": "markdown",
      "metadata": {
        "id": "view-in-github",
        "colab_type": "text"
      },
      "source": [
        "<a href=\"https://colab.research.google.com/github/Jia-Wei-LEE/Jia-wei-LEE/blob/main/%E5%AF%A6%E4%BD%9C%E5%B0%88%E6%A1%882_%E8%B3%87%E6%96%99%E5%BA%ABAPI%E4%B8%B2%E6%8E%A5.ipynb\" target=\"_parent\"><img src=\"https://colab.research.google.com/assets/colab-badge.svg\" alt=\"Open In Colab\"/></a>"
      ]
    },
    {
      "cell_type": "code",
      "execution_count": null,
      "metadata": {
        "id": "KrOEj0jJ0eMj"
      },
      "outputs": [],
      "source": []
    },
    {
      "cell_type": "markdown",
      "source": [
        "1. 在python中，我們可以使用SQLite來創建和操作關聯式資料庫。\n",
        "2. SQLite是一種輕量級的關聯式資料庫，可利用內致函數來操作。\n",
        "3. 建立SQLite資料庫\n",
        "\n",
        "```import sqlite3```\n",
        "\n",
        "4. 使用connect函數建立資料庫\n",
        "5. 執行excute函數，就可以執行SQL語法\n",
        "\n",
        "創建資料表\n",
        "\n",
        "```c.execute('''CREATE TABLE stock(date text, trans text, symbol text, qty real, price real)''')```\n",
        "\n",
        "在資料表中新增一筆資料\n",
        "\n",
        "```c.execute(\"INSERT INTO stocks VALUES ('2022-03-01', 'BUY', 'AAPL', 100, 1350\")```\n",
        "\n",
        "在資料表中修改資料\n",
        "\n",
        "```c.execute(\"UPDATE stocks SET qty = 200 WHERE symbol = 'AAPL'\")```\n",
        "\n",
        "從資料表中刪除資料\n",
        "\n",
        "```c.execute(\"DELETE FROM stocks WHERE symbol = 'AAPL'\")```\n",
        "\n",
        "使用 fetchone() 方法來取得查詢結果的第一筆資料\n",
        "\n",
        "使用 fetchall() 方法來取得所有查詢結果的資料\n",
        "\n",
        "```c.execute(\"SELECT * FROM stocks WHERE symbol = 'AAPL'\")```\n",
        "```print(c.fetchone())```\n",
        "\n",
        "\n",
        "\n"
      ],
      "metadata": {
        "id": "nKX3s_1E0tnc"
      }
    }
  ]
}